{
 "cells": [
  {
   "cell_type": "code",
   "execution_count": 1,
   "metadata": {
    "collapsed": true
   },
   "outputs": [],
   "source": [
    "import vcf\n",
    "import pandas as pd"
   ]
  },
  {
   "cell_type": "code",
   "execution_count": null,
   "metadata": {
    "collapsed": false
   },
   "outputs": [],
   "source": [
    "def getInfo(vcf_file, cancer_ID, qual_flag):\n",
    "    \"\"\"\n",
    "    Takes in a VCF file and extracts the specified columns\n",
    "    vcf_file: name of the VCF file\n",
    "    cancer_ID: sample ID\n",
    "    qual_flag: whether to check for quality. \n",
    "               If True - filter for quality threshold at 30. \n",
    "    \n",
    "    return: filtered list of dict\n",
    "    \"\"\"\n",
    "    out = list()\n",
    "    for record in vcf_file:\n",
    "        if qual_flag == True and record.QUAL<=30.0:\n",
    "            continue\n",
    "        d = {}\n",
    "        d['POS'] = record.POS # the 1- based position of the variation on the sequence\n",
    "        d['REF'] = record.REF # reference base at the given position of the given reference sequence  \n",
    "        d['ALT'] = record.ALT # list of alternative alleles at this position\n",
    "        d['CHROM'] = record.CHROM # chromosome number on which variant is being called \n",
    "        d['GT'] = record.genotype(cancer_ID)['GT'] # genotype\n",
    "        d['AD'] = record.genotype(cancer_ID)['AD'] # allelic depths for the ref and alt alleles\n",
    "        d['DP'] = record.genotype(cancer_ID)['DP'] # approximate read depth\n",
    "        d['GQ'] = record.genotype(cancer_ID)['GQ'] # confidence that the assigned genotype is correct \n",
    "        d['PL'] = record.genotype(cancer_ID)['PL'] # normalized, phred-scaled likelihoods for genotypes\n",
    "        out.append(d)\n",
    "    return out"
   ]
  },
  {
   "cell_type": "code",
   "execution_count": null,
   "metadata": {
    "collapsed": true
   },
   "outputs": [],
   "source": [
    "# read the vcf file for patient's tumor\n",
    "vcf_reader = vcf.Reader(open('G97552.vcf', 'r')) \n",
    "# filter the VCF data\n",
    "my_dict = getInfo(vcf_reader, 'OF_010116NF2_a', True)\n",
    "# save the filtered data\n",
    "df = pd.DataFrame(my_dict)\n",
    "df.to_pickle('VCF Data_Cancer')\n",
    "\n",
    "# read vcf file for patient's blood\n",
    "vcf_reader = vcf.Reader(open('G91716.vcf', 'r'))\n",
    "# filter the VCF data\n",
    "my_dict = getInfo(vcf_reader, 'OF_112015SJIA_2', False)\n",
    "# save the filtered data\n",
    "df = pd.DataFrame(my_dict)\n",
    "df.to_pickle('VCF_Data_Normal')\n",
    "\n",
    "# read the vcf file for a reference\n",
    "vcf_reader = vcf.Reader(open('G91716.vcf', 'r')) \n",
    "# filter the VCF data\n",
    "my_dict = getInfo(vcf_reader, 'VB_112015SJIA_1', False)\n",
    "# save the filtered data\n",
    "df_r = pd.DataFrame(my_dict)\n",
    "df_r.to_pickle('VCF_Data_Ref')"
   ]
  },
  {
   "cell_type": "code",
   "execution_count": 2,
   "metadata": {
    "collapsed": false
   },
   "outputs": [],
   "source": [
    "# read in saved dataframes\n",
    "df_n = pd.read_pickle('VCF_Data_Normal') # patient's blood\n",
    "df_c = pd.read_pickle('VCF_Data_Cancer') # patient's tumor\n",
    "df_r = pd.read_pickle('VCF_Data_Ref') # reference patient's blood\n",
    "\n",
    "# convert ALT column's content to a string\n",
    "df_n.ALT = df_n.ALT.apply(lambda s: str(s[0]) if len(s)==1 else (str(s[0])+'*'))\n",
    "df_c.ALT = df_c.ALT.apply(lambda s: str(s[0]) if len(s)==1 else (str(s[0])+'*'))\n",
    "df_r.ALT = df_r.ALT.apply(lambda s: str(s[0]) if len(s)==1 else (str(s[0])+'*'))"
   ]
  },
  {
   "cell_type": "code",
   "execution_count": null,
   "metadata": {
    "collapsed": false
   },
   "outputs": [],
   "source": [
    "# select rows that are common in patient's tumor and blood genomes, based on pos and chrom\n",
    "common = pd.merge(df_c, df_n, how= 'inner',on=['POS','CHROM'])\n",
    "common['Test'] = common['POS'].astype(str) + common['CHROM'].astype(str)\n",
    "df_c['Test'] = df_c['POS'].astype(str) + df_c['CHROM'].astype(str)\n",
    "\n",
    "# select rows of patient's tumor genome that are not present in blood genome\n",
    "cancer_only = df_c[(~df_c.Test.isin(common.Test))]\n",
    "cancer_only['Test'] = cancer_only['POS'].astype(str) + cancer_only['CHROM'].astype(str)"
   ]
  },
  {
   "cell_type": "code",
   "execution_count": null,
   "metadata": {
    "collapsed": false
   },
   "outputs": [],
   "source": [
    "# look at the first 5 rows of the dataframe\n",
    "cancer_only.head()"
   ]
  },
  {
   "cell_type": "code",
   "execution_count": null,
   "metadata": {
    "collapsed": false
   },
   "outputs": [],
   "source": [
    "# filter data by AD and GQ\n",
    "cancer_only['AD_temp'] = cancer_only.AD.apply(lambda x: x[1])\n",
    "cancer_only = cancer_only.drop(cancer_only[cancer_only.AD_temp<15].index)\n",
    "cancer_only = cancer_only.drop(cancer_only[cancer_only.GQ<95].index)\n",
    "\n",
    "# drop the temporary columns created\n",
    "cancer_only = cancer_only.drop(['Test', 'AD_temp'], 1)"
   ]
  },
  {
   "cell_type": "code",
   "execution_count": null,
   "metadata": {
    "collapsed": true
   },
   "outputs": [],
   "source": [
    "#feature set still too big. randomly dropout columns, keep a fraction.\n",
    "nb = 600.0 # number of samples to keep\n",
    "cancer_only = cancer_only.sample(frac=nb/len(cancer_only))"
   ]
  },
  {
   "cell_type": "code",
   "execution_count": null,
   "metadata": {
    "collapsed": false
   },
   "outputs": [],
   "source": [
    "# saving clean data to .csv file\n",
    "df_sampled.to_csv('VCF_clean.csv')"
   ]
  }
 ],
 "metadata": {
  "anaconda-cloud": {},
  "kernelspec": {
   "display_name": "Python [default]",
   "language": "python",
   "name": "python3"
  },
  "language_info": {
   "codemirror_mode": {
    "name": "ipython",
    "version": 3
   },
   "file_extension": ".py",
   "mimetype": "text/x-python",
   "name": "python",
   "nbconvert_exporter": "python",
   "pygments_lexer": "ipython3",
   "version": "3.5.2"
  }
 },
 "nbformat": 4,
 "nbformat_minor": 2
}
