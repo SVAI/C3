{
 "cells": [
  {
   "cell_type": "markdown",
   "metadata": {
    "deletable": true,
    "editable": true
   },
   "source": [
    "# Convert VCF to MAF file for Oncotator"
   ]
  },
  {
   "cell_type": "code",
   "execution_count": 19,
   "metadata": {
    "collapsed": false,
    "deletable": true,
    "editable": true
   },
   "outputs": [],
   "source": [
    "def vcf_to_maf(df, filter_multiple=True):\n",
    "    import pandas as pd\n",
    "    \n",
    "    df['POS'] = df['POS'].astype(int)\n",
    "    if filter_multiple: \n",
    "        df = df[df['ALT'].apply(lambda x: len(x) == 1)]\n",
    "        df['ALT'] = df['ALT'].apply(lambda x: x[0])\n",
    "        \n",
    "    df = df[['CHROM', 'POS', 'REF', 'ALT']].rename(columns={\n",
    "        'CHROM': 'chr',\n",
    "        'POS':'start', \n",
    "        'REF':'ref_allele', \n",
    "        'ALT':'alt_allele'\n",
    "    })\n",
    "    \n",
    "    ## SNP\n",
    "    ## Start: POS\n",
    "    ## End: POS\n",
    "    ## Ref = Ref\n",
    "    ## Alt = Alt\n",
    "    snp = df[df['ref_allele'].apply(lambda x: len(x)) == df['alt_allele'].apply(lambda x: len(x))]\n",
    "    snp['end'] = snp['start']\n",
    "\n",
    "    ## Insertion: \n",
    "    ## Start: POS\n",
    "    ## End: POS+1\n",
    "    ## Ref: - \n",
    "    ## Alt: Alt[1:]\n",
    "    ins = df[df['ref_allele'].apply(lambda x: len(x)) < df['alt_allele'].apply(lambda x: len(x))]\n",
    "    ins['start'] = ins['start']\n",
    "    ins['end'] = ins['start'] + 1\n",
    "    ins['ref_allele'] = \"-\"\n",
    "    ins['alt_allele'] = ins['alt_allele'].apply(lambda x: str(x)[1:])\n",
    "\n",
    "    ## Deletion: \n",
    "    ## Start: POS+1\n",
    "    ## End: POS+len(Ref)-1\n",
    "    ## Ref: Ref[1:]\n",
    "    ## Alt: - \n",
    "    dels = df[df['ref_allele'].apply(lambda x: len(x)) > df['alt_allele'].apply(lambda x: len(x))]\n",
    "    dels['start'] = dels['start'] + 1\n",
    "    dels['end'] = dels['start'] + dels['ref_allele'].apply(lambda x: len(x)-2) \n",
    "    dels['ref_allele'] = dels['ref_allele'].apply(lambda x: str(x)[1:])\n",
    "    dels['alt_allele'] = '_'\n",
    "    \n",
    "    maf_cols = ['chr', 'start', 'end', 'ref_allele', 'alt_allele']\n",
    "\n",
    "    return pd.concat([snp, ins, dels], axis=0)[maf_cols]"
   ]
  },
  {
   "cell_type": "code",
   "execution_count": 1,
   "metadata": {
    "collapsed": false,
    "deletable": true,
    "editable": true
   },
   "outputs": [],
   "source": [
    "import pickle\n",
    "import pandas as pd\n",
    "cancerInputFile = '../data/VCF_Data_Cancer'\n",
    "with open(cancerInputFile, \"rb\") as f: \n",
    "    cancerData = pickle.load(f)\n",
    "cancerData = pd.read_csv('../data/VCF_300.csv')\n",
    "cancerMaf = vcf_to_maf(cancerData, filter_multiple=True)\n",
    "cancerMaf.to_csv('../data/cancer_G97552_maflite.txt', sep='\\t', index=False)\n",
    "delete('cancerMaf')\n",
    "\n",
    "normalInputFile = '../data/VCF_Data_Normal'\n",
    "\n",
    "with open(normalInputFile, \"rb\") as g: \n",
    "    normalData = pickle.load(g)\n",
    "    \n",
    "normalMaf = vcf_to_maf(normalData, filter_multiple=True)\n",
    "normalMaf.to_csv('../data/normal_G91716_maflite.txt', sep='\\t', index=False)\n",
    "delete('normalMaf')"
   ]
  },
  {
   "cell_type": "code",
   "execution_count": null,
   "metadata": {
    "collapsed": true,
    "deletable": true,
    "editable": true
   },
   "outputs": [],
   "source": []
  }
 ],
 "metadata": {
  "kernelspec": {
   "display_name": "Python 3",
   "language": "python",
   "name": "python3"
  },
  "language_info": {
   "codemirror_mode": {
    "name": "ipython",
    "version": 3
   },
   "file_extension": ".py",
   "mimetype": "text/x-python",
   "name": "python",
   "nbconvert_exporter": "python",
   "pygments_lexer": "ipython3",
   "version": "3.5.3"
  }
 },
 "nbformat": 4,
 "nbformat_minor": 2
}
