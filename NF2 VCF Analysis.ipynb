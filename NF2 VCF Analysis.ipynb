{
 "cells": [
  {
   "cell_type": "code",
   "execution_count": 7,
   "metadata": {},
   "outputs": [
    {
     "data": {
      "text/plain": [
       "\"\\nThis code takes the filtered VF data and finds the number of \\nunique gene mutations in Onno's vs healthy human genome data. \\n\""
      ]
     },
     "execution_count": 7,
     "metadata": {},
     "output_type": "execute_result"
    }
   ],
   "source": [
    "'''\n",
    "This code takes the filtered VF data and finds the number of \n",
    "unique gene mutations in Onno's vs healthy human genome data. \n",
    "'''"
   ]
  },
  {
   "cell_type": "code",
   "execution_count": 8,
   "metadata": {
    "collapsed": true
   },
   "outputs": [],
   "source": [
    "import numpy as np\n",
    "import pandas as pd "
   ]
  },
  {
   "cell_type": "code",
   "execution_count": 9,
   "metadata": {},
   "outputs": [],
   "source": [
    "genes = pd.read_csv('genes.txt', delimiter='\\t')\n",
    "#drop all random mutations \n",
    "genes=genes[:60270]\n",
    "\n",
    "genes.chrom = genes.chrom.apply(lambda x: (x[3:5]))\n",
    "genes.tail()\n",
    "\n",
    "ono = pd.read_csv('mut_o_filt.txt', delimiter='\\t')\n",
    "#ono.head()\n"
   ]
  },
  {
   "cell_type": "code",
   "execution_count": 10,
   "metadata": {},
   "outputs": [
    {
     "data": {
      "text/html": [
       "<div>\n",
       "<table border=\"1\" class=\"dataframe\">\n",
       "  <thead>\n",
       "    <tr style=\"text-align: right;\">\n",
       "      <th></th>\n",
       "      <th>CHROM</th>\n",
       "      <th>POS</th>\n",
       "      <th>REF</th>\n",
       "      <th>ALT</th>\n",
       "      <th>sample</th>\n",
       "    </tr>\n",
       "  </thead>\n",
       "  <tbody>\n",
       "    <tr>\n",
       "      <th>0</th>\n",
       "      <td>1</td>\n",
       "      <td>13649</td>\n",
       "      <td>G</td>\n",
       "      <td>C</td>\n",
       "      <td>onno</td>\n",
       "    </tr>\n",
       "    <tr>\n",
       "      <th>1</th>\n",
       "      <td>1</td>\n",
       "      <td>13757</td>\n",
       "      <td>G</td>\n",
       "      <td>A</td>\n",
       "      <td>onno</td>\n",
       "    </tr>\n",
       "    <tr>\n",
       "      <th>2</th>\n",
       "      <td>1</td>\n",
       "      <td>136962</td>\n",
       "      <td>C</td>\n",
       "      <td>T</td>\n",
       "      <td>onno</td>\n",
       "    </tr>\n",
       "    <tr>\n",
       "      <th>3</th>\n",
       "      <td>1</td>\n",
       "      <td>139836</td>\n",
       "      <td>G</td>\n",
       "      <td>C</td>\n",
       "      <td>onno</td>\n",
       "    </tr>\n",
       "    <tr>\n",
       "      <th>4</th>\n",
       "      <td>1</td>\n",
       "      <td>16861372</td>\n",
       "      <td>T</td>\n",
       "      <td>C</td>\n",
       "      <td>onno</td>\n",
       "    </tr>\n",
       "  </tbody>\n",
       "</table>\n",
       "</div>"
      ],
      "text/plain": [
       "   CHROM       POS REF ALT sample\n",
       "0      1     13649   G   C   onno\n",
       "1      1     13757   G   A   onno\n",
       "2      1    136962   C   T   onno\n",
       "3      1    139836   G   C   onno\n",
       "4      1  16861372   T   C   onno"
      ]
     },
     "execution_count": 10,
     "metadata": {},
     "output_type": "execute_result"
    }
   ],
   "source": [
    "ono.head()"
   ]
  },
  {
   "cell_type": "code",
   "execution_count": 11,
   "metadata": {},
   "outputs": [
    {
     "data": {
      "text/html": [
       "<div>\n",
       "<table border=\"1\" class=\"dataframe\">\n",
       "  <thead>\n",
       "    <tr style=\"text-align: right;\">\n",
       "      <th></th>\n",
       "      <th>bin</th>\n",
       "      <th>name</th>\n",
       "      <th>chrom</th>\n",
       "      <th>strand</th>\n",
       "      <th>txStart</th>\n",
       "      <th>txEnd</th>\n",
       "      <th>cdsStart</th>\n",
       "      <th>cdsEnd</th>\n",
       "      <th>exonCount</th>\n",
       "      <th>exonStarts</th>\n",
       "      <th>exonEnds</th>\n",
       "      <th>score</th>\n",
       "      <th>name2</th>\n",
       "      <th>cdsStartStat</th>\n",
       "      <th>cdsEndStat</th>\n",
       "      <th>exonFrames</th>\n",
       "    </tr>\n",
       "  </thead>\n",
       "  <tbody>\n",
       "    <tr>\n",
       "      <th>0</th>\n",
       "      <td>0</td>\n",
       "      <td>NM_001308203</td>\n",
       "      <td>1</td>\n",
       "      <td>+</td>\n",
       "      <td>66999251</td>\n",
       "      <td>67216822</td>\n",
       "      <td>67000041</td>\n",
       "      <td>67208778</td>\n",
       "      <td>22</td>\n",
       "      <td>66999251,66999928,67091529,67098752,67105459,6...</td>\n",
       "      <td>66999355,67000051,67091593,67098777,67105516,6...</td>\n",
       "      <td>0</td>\n",
       "      <td>SGIP1</td>\n",
       "      <td>cmpl</td>\n",
       "      <td>cmpl</td>\n",
       "      <td>-1,0,1,2,0,0,1,0,1,2,1,1,1,0,1,1,2,2,0,2,1,1,</td>\n",
       "    </tr>\n",
       "    <tr>\n",
       "      <th>1</th>\n",
       "      <td>0</td>\n",
       "      <td>NM_032291</td>\n",
       "      <td>1</td>\n",
       "      <td>+</td>\n",
       "      <td>66999638</td>\n",
       "      <td>67216822</td>\n",
       "      <td>67000041</td>\n",
       "      <td>67208778</td>\n",
       "      <td>25</td>\n",
       "      <td>66999638,67091529,67098752,67101626,67105459,6...</td>\n",
       "      <td>67000051,67091593,67098777,67101698,67105516,6...</td>\n",
       "      <td>0</td>\n",
       "      <td>SGIP1</td>\n",
       "      <td>cmpl</td>\n",
       "      <td>cmpl</td>\n",
       "      <td>0,1,2,0,0,0,1,0,0,0,1,2,1,1,1,1,0,1,1,2,2,0,2,...</td>\n",
       "    </tr>\n",
       "    <tr>\n",
       "      <th>2</th>\n",
       "      <td>1</td>\n",
       "      <td>NM_001145277</td>\n",
       "      <td>1</td>\n",
       "      <td>+</td>\n",
       "      <td>16767166</td>\n",
       "      <td>16786584</td>\n",
       "      <td>16767256</td>\n",
       "      <td>16785491</td>\n",
       "      <td>7</td>\n",
       "      <td>16767166,16770126,16774364,16774554,16775587,1...</td>\n",
       "      <td>16767348,16770227,16774469,16774636,16775696,1...</td>\n",
       "      <td>0</td>\n",
       "      <td>NECAP2</td>\n",
       "      <td>cmpl</td>\n",
       "      <td>cmpl</td>\n",
       "      <td>0,2,1,1,2,0,1,</td>\n",
       "    </tr>\n",
       "    <tr>\n",
       "      <th>3</th>\n",
       "      <td>1</td>\n",
       "      <td>NM_001145278</td>\n",
       "      <td>1</td>\n",
       "      <td>+</td>\n",
       "      <td>16767166</td>\n",
       "      <td>16786584</td>\n",
       "      <td>16767256</td>\n",
       "      <td>16785385</td>\n",
       "      <td>8</td>\n",
       "      <td>16767166,16770126,16774364,16774554,16775587,1...</td>\n",
       "      <td>16767270,16770227,16774469,16774636,16775696,1...</td>\n",
       "      <td>0</td>\n",
       "      <td>NECAP2</td>\n",
       "      <td>cmpl</td>\n",
       "      <td>cmpl</td>\n",
       "      <td>0,2,1,1,2,0,1,2,</td>\n",
       "    </tr>\n",
       "    <tr>\n",
       "      <th>4</th>\n",
       "      <td>1</td>\n",
       "      <td>NM_018090</td>\n",
       "      <td>1</td>\n",
       "      <td>+</td>\n",
       "      <td>16767166</td>\n",
       "      <td>16786584</td>\n",
       "      <td>16767256</td>\n",
       "      <td>16785385</td>\n",
       "      <td>8</td>\n",
       "      <td>16767166,16770126,16774364,16774554,16775587,1...</td>\n",
       "      <td>16767348,16770227,16774469,16774636,16775696,1...</td>\n",
       "      <td>0</td>\n",
       "      <td>NECAP2</td>\n",
       "      <td>cmpl</td>\n",
       "      <td>cmpl</td>\n",
       "      <td>0,2,1,1,2,0,1,2,</td>\n",
       "    </tr>\n",
       "  </tbody>\n",
       "</table>\n",
       "</div>"
      ],
      "text/plain": [
       "   bin          name chrom strand   txStart     txEnd  cdsStart    cdsEnd  \\\n",
       "0    0  NM_001308203     1      +  66999251  67216822  67000041  67208778   \n",
       "1    0     NM_032291     1      +  66999638  67216822  67000041  67208778   \n",
       "2    1  NM_001145277     1      +  16767166  16786584  16767256  16785491   \n",
       "3    1  NM_001145278     1      +  16767166  16786584  16767256  16785385   \n",
       "4    1     NM_018090     1      +  16767166  16786584  16767256  16785385   \n",
       "\n",
       "   exonCount                                         exonStarts  \\\n",
       "0         22  66999251,66999928,67091529,67098752,67105459,6...   \n",
       "1         25  66999638,67091529,67098752,67101626,67105459,6...   \n",
       "2          7  16767166,16770126,16774364,16774554,16775587,1...   \n",
       "3          8  16767166,16770126,16774364,16774554,16775587,1...   \n",
       "4          8  16767166,16770126,16774364,16774554,16775587,1...   \n",
       "\n",
       "                                            exonEnds  score   name2  \\\n",
       "0  66999355,67000051,67091593,67098777,67105516,6...      0   SGIP1   \n",
       "1  67000051,67091593,67098777,67101698,67105516,6...      0   SGIP1   \n",
       "2  16767348,16770227,16774469,16774636,16775696,1...      0  NECAP2   \n",
       "3  16767270,16770227,16774469,16774636,16775696,1...      0  NECAP2   \n",
       "4  16767348,16770227,16774469,16774636,16775696,1...      0  NECAP2   \n",
       "\n",
       "  cdsStartStat cdsEndStat                                         exonFrames  \n",
       "0         cmpl       cmpl      -1,0,1,2,0,0,1,0,1,2,1,1,1,0,1,1,2,2,0,2,1,1,  \n",
       "1         cmpl       cmpl  0,1,2,0,0,0,1,0,0,0,1,2,1,1,1,1,0,1,1,2,2,0,2,...  \n",
       "2         cmpl       cmpl                                     0,2,1,1,2,0,1,  \n",
       "3         cmpl       cmpl                                   0,2,1,1,2,0,1,2,  \n",
       "4         cmpl       cmpl                                   0,2,1,1,2,0,1,2,  "
      ]
     },
     "execution_count": 11,
     "metadata": {},
     "output_type": "execute_result"
    }
   ],
   "source": [
    "genes.head(5)"
   ]
  },
  {
   "cell_type": "code",
   "execution_count": 12,
   "metadata": {},
   "outputs": [
    {
     "data": {
      "text/plain": [
       "27273"
      ]
     },
     "execution_count": 12,
     "metadata": {},
     "output_type": "execute_result"
    }
   ],
   "source": [
    "len(list(set(list(genes.name2.values)))) #how many genes total?"
   ]
  },
  {
   "cell_type": "code",
   "execution_count": null,
   "metadata": {
    "scrolled": true
   },
   "outputs": [],
   "source": [
    "mut_index = []\n",
    "for j, mutation in enumerate(range(ono.shape[0])):\n",
    "    chrom = ono.CHROM[j]\n",
    "    position = ono.POS[j]\n",
    "    for i in range(genes.shape[0]):   \n",
    "\n",
    "        try: \n",
    "            if int(chrom) == int(genes.chrom[i]): #ensure same chromosome \n",
    "                if position > genes.cdsStart[i] and position <genes.cdsEnd[i]: #if pos is within gene range \n",
    "                    mut_index.append(genes.name2[i])\n",
    "                    print chrom, position, genes.cdsStart[i], genes.cdsEnd[i]\n",
    "        except: \n",
    "            pass\n",
    "                "
   ]
  },
  {
   "cell_type": "code",
   "execution_count": null,
   "metadata": {},
   "outputs": [],
   "source": [
    "# turn into unique set \n",
    "mut_index_new = list(set(mut_index))"
   ]
  },
  {
   "cell_type": "code",
   "execution_count": null,
   "metadata": {},
   "outputs": [],
   "source": [
    "# number of unique genes! \n",
    "len(mut_index_new)"
   ]
  },
  {
   "cell_type": "code",
   "execution_count": null,
   "metadata": {
    "collapsed": true
   },
   "outputs": [],
   "source": []
  },
  {
   "cell_type": "code",
   "execution_count": null,
   "metadata": {
    "collapsed": true
   },
   "outputs": [],
   "source": []
  },
  {
   "cell_type": "code",
   "execution_count": null,
   "metadata": {
    "collapsed": true
   },
   "outputs": [],
   "source": [
    "'''\n",
    "This set of code is is used to filter the raw VCF data \n",
    "for cluster analysis \n",
    "'''"
   ]
  },
  {
   "cell_type": "code",
   "execution_count": null,
   "metadata": {
    "collapsed": true,
    "scrolled": false
   },
   "outputs": [],
   "source": [
    "#import the raw VCF files, save as df's\n",
    "\n",
    "'''\n",
    "CHROM: Number of chromosome on which variant is being called\n",
    "POS: The 1- based position of the variation on the given sequence\n",
    "ID: Identifier of the variation\n",
    "REF: The referece base at the given position of the given reference sequence\n",
    "ALT: List of alternative alleles at this position\n",
    "QUAL: Quality score associated with the interference of the given alleles\n",
    "GQ: Confidence that the assigned genotype is correct \n",
    "\n",
    "'''\n",
    "\n",
    "if False: #toggle to prevent overprocessing... \n",
    "\n",
    "    with open('VCF_Data_Normal', 'rb') as f:\n",
    "        df_normal = pickle.load(f)\n",
    "    print (df_normal.head())\n",
    "\n",
    "    with open('VCF_Data_Cancer', 'rb') as f:\n",
    "        df_cancer = pickle.load(f)\n",
    "    df_cancer.head()"
   ]
  },
  {
   "cell_type": "code",
   "execution_count": null,
   "metadata": {
    "collapsed": true
   },
   "outputs": [],
   "source": [
    "# Grab smaller subset of data for unit testing \n",
    "\n",
    "df_normal_test = df_normal#[:2000]\n",
    "df_cancer_test = df_cancer#[:2000]"
   ]
  },
  {
   "cell_type": "code",
   "execution_count": null,
   "metadata": {
    "collapsed": true
   },
   "outputs": [],
   "source": [
    "#save for later \n",
    "\n",
    "df_normal_test.to_csv('normal.csv')\n",
    "df_cancer_test.to_csv('cancer.csv')"
   ]
  },
  {
   "cell_type": "code",
   "execution_count": null,
   "metadata": {},
   "outputs": [],
   "source": [
    "df_normal_test = pd.read_csv('normal.csv')\n",
    "df_cancer_test = pd.read_csv('cancer.csv')"
   ]
  },
  {
   "cell_type": "code",
   "execution_count": null,
   "metadata": {
    "collapsed": true
   },
   "outputs": [],
   "source": [
    "#convert alternative lists into strings \n",
    "\n",
    "df_normal_test.ALT = df_normal_test.ALT.apply(lambda s: s[1:-1])#str(s[0]) if len(s)==1 else (str(s[0])+'*'))\n",
    "df_cancer_test.ALT = df_cancer_test.ALT.apply(lambda s: s[1:-1])#str(s[0]) if len(s)==1 else (str(s[0])+'*'))"
   ]
  },
  {
   "cell_type": "code",
   "execution_count": null,
   "metadata": {
    "collapsed": true
   },
   "outputs": [],
   "source": [
    "# comapre the cancer (tumor) and healthy (blood) samples\n",
    "# only keep rows where genes are different (mutations) \n",
    "\n",
    "df_normal_test['Test'] = df_normal_test['POS'].astype(str) + df_normal_test['REF'].astype(str) + df_normal_test['ALT'].astype(str) + df_normal_test['CHROM'].astype(str)\n",
    "df_cancer_test['Test'] = df_cancer_test['POS'].astype(str) + df_cancer_test['REF'].astype(str) + df_cancer_test['ALT'].astype(str) + df_cancer_test['CHROM'].astype(str)\n",
    "\n",
    "compare =pd.DataFrame(data = [df_cancer_test.Test, df_normal_test.Test]).T\n",
    "compare.columns = ['cancer', 'normal']\n",
    "compare.compare_cols = np.where((compare.cancer != compare.normal) )"
   ]
  },
  {
   "cell_type": "code",
   "execution_count": null,
   "metadata": {
    "collapsed": true
   },
   "outputs": [],
   "source": [
    "# import new filtered data (Natasha's)\n",
    "\n",
    "VCF_filtered = pd.read_csv('VCF_filtered.csv')"
   ]
  },
  {
   "cell_type": "code",
   "execution_count": null,
   "metadata": {},
   "outputs": [],
   "source": [
    "# How many poor GQ genes in dataset?\n",
    "\n",
    "GQ_poor = []\n",
    "for i in VCF_filtered.GQ.sort_values(ascending=True):\n",
    "    if i< 80:\n",
    "        GQ_poor.append(i)\n",
    "print (len(GQ_poor))"
   ]
  },
  {
   "cell_type": "code",
   "execution_count": null,
   "metadata": {},
   "outputs": [],
   "source": [
    "# drop rows where GQ is less than 95% confidence \n",
    "\n",
    "VCF_filtered = VCF_filtered.drop(VCF_filtered[VCF_filtered.GQ<95].index)\n",
    "VCF_filtered\n",
    "#VCF_filtered.to_csv('VCF_filtered_GQ_thresh.csv')"
   ]
  },
  {
   "cell_type": "code",
   "execution_count": null,
   "metadata": {
    "collapsed": true
   },
   "outputs": [],
   "source": [
    "VCF_filtered = VCF_filtered.sample(frac=600.0/len(VCF_filtered))"
   ]
  },
  {
   "cell_type": "code",
   "execution_count": null,
   "metadata": {
    "collapsed": true
   },
   "outputs": [],
   "source": [
    "VCF_filtered.to_csv('VCF_filtered_600.csv')"
   ]
  }
 ],
 "metadata": {
  "kernelspec": {
   "display_name": "Python 2",
   "language": "python",
   "name": "python2"
  },
  "language_info": {
   "codemirror_mode": {
    "name": "ipython",
    "version": 2
   },
   "file_extension": ".py",
   "mimetype": "text/x-python",
   "name": "python",
   "nbconvert_exporter": "python",
   "pygments_lexer": "ipython2",
   "version": "2.7.13"
  }
 },
 "nbformat": 4,
 "nbformat_minor": 2
}
